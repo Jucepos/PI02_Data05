{
 "cells": [
  {
   "attachments": {},
   "cell_type": "markdown",
   "metadata": {},
   "source": [
    "Importamos Librerías "
   ]
  },
  {
   "cell_type": "code",
   "execution_count": 2,
   "metadata": {},
   "outputs": [],
   "source": [
    "import numpy as np\n",
    "import pandas as pd\n",
    "import matplotlib.pyplot as plt\n",
    "import seaborn as sns\n",
    "from sklearn.ensemble import RandomForestClassifier\n",
    "from sklearn.metrics import accuracy_score\n",
    "from sklearn.metrics import confusion_matrix\n",
    "from sklearn.metrics import plot_confusion_matrix\n",
    "from sklearn.metrics import classification_report\n",
    "from sklearn.model_selection import train_test_split\n",
    "from sklearn.model_selection import ParameterGrid\n",
    "from sklearn.model_selection import train_test_split\n",
    "from sklearn.metrics import recall_score\n",
    "from sklearn import preprocessing\n",
    "from sklearn import metrics"
   ]
  },
  {
   "attachments": {},
   "cell_type": "markdown",
   "metadata": {},
   "source": [
    "Vamos a ingestar los archivos en un dataframe con pandas, asi podemos revisarlo y hacer las tranformaciones necesarias antes de armar el modelo"
   ]
  },
  {
   "cell_type": "code",
   "execution_count": 4,
   "metadata": {},
   "outputs": [],
   "source": [
    "df_train= pd.read_csv('./datasets/hospitalizaciones_train.csv')\n",
    "df_test= pd.read_csv('./datasets/hospitalizaciones_test.csv')"
   ]
  },
  {
   "attachments": {},
   "cell_type": "markdown",
   "metadata": {},
   "source": [
    "EDA\n",
    "Todos los cambios que apliquemos sera para ambos dataframe"
   ]
  },
  {
   "cell_type": "code",
   "execution_count": 5,
   "metadata": {},
   "outputs": [
    {
     "data": {
      "text/html": [
       "<div>\n",
       "<style scoped>\n",
       "    .dataframe tbody tr th:only-of-type {\n",
       "        vertical-align: middle;\n",
       "    }\n",
       "\n",
       "    .dataframe tbody tr th {\n",
       "        vertical-align: top;\n",
       "    }\n",
       "\n",
       "    .dataframe thead th {\n",
       "        text-align: right;\n",
       "    }\n",
       "</style>\n",
       "<table border=\"1\" class=\"dataframe\">\n",
       "  <thead>\n",
       "    <tr style=\"text-align: right;\">\n",
       "      <th></th>\n",
       "      <th>Available Extra Rooms in Hospital</th>\n",
       "      <th>Department</th>\n",
       "      <th>Ward_Facility_Code</th>\n",
       "      <th>doctor_name</th>\n",
       "      <th>staff_available</th>\n",
       "      <th>patientid</th>\n",
       "      <th>Age</th>\n",
       "      <th>gender</th>\n",
       "      <th>Type of Admission</th>\n",
       "      <th>Severity of Illness</th>\n",
       "      <th>health_conditions</th>\n",
       "      <th>Visitors with Patient</th>\n",
       "      <th>Insurance</th>\n",
       "      <th>Admission_Deposit</th>\n",
       "      <th>Stay (in days)</th>\n",
       "    </tr>\n",
       "  </thead>\n",
       "  <tbody>\n",
       "    <tr>\n",
       "      <th>0</th>\n",
       "      <td>4</td>\n",
       "      <td>gynecology</td>\n",
       "      <td>D</td>\n",
       "      <td>Dr Sophia</td>\n",
       "      <td>0</td>\n",
       "      <td>33070</td>\n",
       "      <td>41-50</td>\n",
       "      <td>Female</td>\n",
       "      <td>Trauma</td>\n",
       "      <td>Extreme</td>\n",
       "      <td>Diabetes</td>\n",
       "      <td>4</td>\n",
       "      <td>Yes</td>\n",
       "      <td>2966.408696</td>\n",
       "      <td>8</td>\n",
       "    </tr>\n",
       "    <tr>\n",
       "      <th>1</th>\n",
       "      <td>4</td>\n",
       "      <td>gynecology</td>\n",
       "      <td>B</td>\n",
       "      <td>Dr Sophia</td>\n",
       "      <td>2</td>\n",
       "      <td>34808</td>\n",
       "      <td>31-40</td>\n",
       "      <td>Female</td>\n",
       "      <td>Trauma</td>\n",
       "      <td>Minor</td>\n",
       "      <td>Heart disease</td>\n",
       "      <td>2</td>\n",
       "      <td>No</td>\n",
       "      <td>3554.835677</td>\n",
       "      <td>9</td>\n",
       "    </tr>\n",
       "    <tr>\n",
       "      <th>2</th>\n",
       "      <td>2</td>\n",
       "      <td>gynecology</td>\n",
       "      <td>B</td>\n",
       "      <td>Dr Sophia</td>\n",
       "      <td>8</td>\n",
       "      <td>44577</td>\n",
       "      <td>21-30</td>\n",
       "      <td>Female</td>\n",
       "      <td>Trauma</td>\n",
       "      <td>Extreme</td>\n",
       "      <td>Diabetes</td>\n",
       "      <td>2</td>\n",
       "      <td>Yes</td>\n",
       "      <td>5624.733654</td>\n",
       "      <td>7</td>\n",
       "    </tr>\n",
       "    <tr>\n",
       "      <th>3</th>\n",
       "      <td>4</td>\n",
       "      <td>gynecology</td>\n",
       "      <td>D</td>\n",
       "      <td>Dr Olivia</td>\n",
       "      <td>7</td>\n",
       "      <td>3695</td>\n",
       "      <td>31-40</td>\n",
       "      <td>Female</td>\n",
       "      <td>Urgent</td>\n",
       "      <td>Moderate</td>\n",
       "      <td>None</td>\n",
       "      <td>4</td>\n",
       "      <td>No</td>\n",
       "      <td>4814.149231</td>\n",
       "      <td>8</td>\n",
       "    </tr>\n",
       "    <tr>\n",
       "      <th>4</th>\n",
       "      <td>2</td>\n",
       "      <td>anesthesia</td>\n",
       "      <td>E</td>\n",
       "      <td>Dr Mark</td>\n",
       "      <td>10</td>\n",
       "      <td>108956</td>\n",
       "      <td>71-80</td>\n",
       "      <td>Male</td>\n",
       "      <td>Trauma</td>\n",
       "      <td>Moderate</td>\n",
       "      <td>Diabetes</td>\n",
       "      <td>2</td>\n",
       "      <td>No</td>\n",
       "      <td>5169.269637</td>\n",
       "      <td>34</td>\n",
       "    </tr>\n",
       "  </tbody>\n",
       "</table>\n",
       "</div>"
      ],
      "text/plain": [
       "   Available Extra Rooms in Hospital  Department Ward_Facility_Code  \\\n",
       "0                                  4  gynecology                  D   \n",
       "1                                  4  gynecology                  B   \n",
       "2                                  2  gynecology                  B   \n",
       "3                                  4  gynecology                  D   \n",
       "4                                  2  anesthesia                  E   \n",
       "\n",
       "  doctor_name  staff_available  patientid    Age  gender Type of Admission  \\\n",
       "0   Dr Sophia                0      33070  41-50  Female            Trauma   \n",
       "1   Dr Sophia                2      34808  31-40  Female            Trauma   \n",
       "2   Dr Sophia                8      44577  21-30  Female            Trauma   \n",
       "3   Dr Olivia                7       3695  31-40  Female            Urgent   \n",
       "4     Dr Mark               10     108956  71-80    Male            Trauma   \n",
       "\n",
       "  Severity of Illness health_conditions  Visitors with Patient Insurance  \\\n",
       "0             Extreme          Diabetes                      4       Yes   \n",
       "1               Minor     Heart disease                      2        No   \n",
       "2             Extreme          Diabetes                      2       Yes   \n",
       "3            Moderate              None                      4        No   \n",
       "4            Moderate          Diabetes                      2        No   \n",
       "\n",
       "   Admission_Deposit  Stay (in days)  \n",
       "0        2966.408696               8  \n",
       "1        3554.835677               9  \n",
       "2        5624.733654               7  \n",
       "3        4814.149231               8  \n",
       "4        5169.269637              34  "
      ]
     },
     "execution_count": 5,
     "metadata": {},
     "output_type": "execute_result"
    }
   ],
   "source": [
    "#Vemos los primeros registros y analizamos columnas y datos\n",
    "df_train.head()"
   ]
  },
  {
   "cell_type": "code",
   "execution_count": 6,
   "metadata": {},
   "outputs": [
    {
     "name": "stdout",
     "output_type": "stream",
     "text": [
      "<class 'pandas.core.frame.DataFrame'>\n",
      "RangeIndex: 410000 entries, 0 to 409999\n",
      "Data columns (total 15 columns):\n",
      " #   Column                             Non-Null Count   Dtype  \n",
      "---  ------                             --------------   -----  \n",
      " 0   Available Extra Rooms in Hospital  410000 non-null  int64  \n",
      " 1   Department                         410000 non-null  object \n",
      " 2   Ward_Facility_Code                 410000 non-null  object \n",
      " 3   doctor_name                        410000 non-null  object \n",
      " 4   staff_available                    410000 non-null  int64  \n",
      " 5   patientid                          410000 non-null  int64  \n",
      " 6   Age                                410000 non-null  object \n",
      " 7   gender                             410000 non-null  object \n",
      " 8   Type of Admission                  410000 non-null  object \n",
      " 9   Severity of Illness                410000 non-null  object \n",
      " 10  health_conditions                  410000 non-null  object \n",
      " 11  Visitors with Patient              410000 non-null  int64  \n",
      " 12  Insurance                          410000 non-null  object \n",
      " 13  Admission_Deposit                  410000 non-null  float64\n",
      " 14  Stay (in days)                     410000 non-null  int64  \n",
      "dtypes: float64(1), int64(5), object(9)\n",
      "memory usage: 46.9+ MB\n"
     ]
    }
   ],
   "source": [
    "#Vemos si hay presencia de nulos y el tipo de dato de cada columna\n",
    "df_train.info()"
   ]
  },
  {
   "cell_type": "code",
   "execution_count": 7,
   "metadata": {},
   "outputs": [
    {
     "data": {
      "text/plain": [
       "0"
      ]
     },
     "execution_count": 7,
     "metadata": {},
     "output_type": "execute_result"
    }
   ],
   "source": [
    "#Buscamos duplicados\n",
    "df_train.duplicated().sum()"
   ]
  },
  {
   "cell_type": "code",
   "execution_count": 8,
   "metadata": {},
   "outputs": [],
   "source": [
    "#Agregamos una columna en la cual si la estadia es mayor a 8 coloca 1, de lo contrario 0\n",
    "df_train[\"Long_stay\"] = np.where(df_train[\"Stay (in days)\"]>8,1,0)"
   ]
  },
  {
   "cell_type": "code",
   "execution_count": 9,
   "metadata": {},
   "outputs": [],
   "source": [
    "#Vamos a transformar cada columna en categorica agregandole _new para distinguirlas\n",
    "for columna in df_train.columns:\n",
    "    df_train[columna] = pd.Categorical(df_train[columna])\n",
    "    df_train[f'{columna}_new'] = df_train[columna].cat.codes"
   ]
  },
  {
   "cell_type": "code",
   "execution_count": 10,
   "metadata": {},
   "outputs": [],
   "source": [
    "#Vamos a transformar cada columna en categorica agregandole _new para distinguirlas en el df test\n",
    "for columna in df_test.columns:\n",
    "    df_test[columna] = pd.Categorical(df_test[columna])\n",
    "    df_test[f'{columna}_new'] = df_test[columna].cat.codes"
   ]
  },
  {
   "cell_type": "code",
   "execution_count": 11,
   "metadata": {},
   "outputs": [],
   "source": [
    "#Eliminamos todas las columnas viejas sin el _new\n",
    "df_train.drop(['Available Extra Rooms in Hospital', 'Department', 'Ward_Facility_Code',\n",
    "       'doctor_name', 'staff_available', 'patientid', 'Age', 'gender',\n",
    "       'Type of Admission', 'Severity of Illness', 'health_conditions',\n",
    "       'Visitors with Patient', 'Insurance', 'Admission_Deposit',\n",
    "       'Stay (in days)', 'Long_stay'], axis=1, inplace=True)"
   ]
  },
  {
   "cell_type": "code",
   "execution_count": 12,
   "metadata": {},
   "outputs": [],
   "source": [
    "#Eliminamos todas las columnas viejas sin el _new en el df test\n",
    "df_test.drop(['Available Extra Rooms in Hospital', 'Department', 'Ward_Facility_Code',\n",
    "       'doctor_name', 'staff_available', 'patientid', 'Age', 'gender',\n",
    "       'Type of Admission', 'Severity of Illness', 'health_conditions',\n",
    "       'Visitors with Patient', 'Insurance', 'Admission_Deposit'], axis=1, inplace=True)"
   ]
  },
  {
   "cell_type": "code",
   "execution_count": 13,
   "metadata": {},
   "outputs": [],
   "source": [
    "#Borramos columnas que no nos van a servir para correlacion\n",
    "df_train = df_train.drop(columns=['Ward_Facility_Code_new', 'doctor_name_new', 'patientid_new', 'Visitors with Patient_new', 'Admission_Deposit_new', 'Stay (in days)_new'])"
   ]
  },
  {
   "cell_type": "code",
   "execution_count": 14,
   "metadata": {},
   "outputs": [],
   "source": [
    "#Borramos columnas que no nos van a servir para correlacion en el df test\n",
    "df_test = df_test.drop(columns=['Ward_Facility_Code_new', 'doctor_name_new', 'patientid_new', 'Visitors with Patient_new', 'Admission_Deposit_new'])"
   ]
  },
  {
   "cell_type": "code",
   "execution_count": 15,
   "metadata": {},
   "outputs": [
    {
     "data": {
      "text/html": [
       "<div>\n",
       "<style scoped>\n",
       "    .dataframe tbody tr th:only-of-type {\n",
       "        vertical-align: middle;\n",
       "    }\n",
       "\n",
       "    .dataframe tbody tr th {\n",
       "        vertical-align: top;\n",
       "    }\n",
       "\n",
       "    .dataframe thead th {\n",
       "        text-align: right;\n",
       "    }\n",
       "</style>\n",
       "<table border=\"1\" class=\"dataframe\">\n",
       "  <thead>\n",
       "    <tr style=\"text-align: right;\">\n",
       "      <th></th>\n",
       "      <th>Available Extra Rooms in Hospital_new</th>\n",
       "      <th>Department_new</th>\n",
       "      <th>staff_available_new</th>\n",
       "      <th>Age_new</th>\n",
       "      <th>gender_new</th>\n",
       "      <th>Type of Admission_new</th>\n",
       "      <th>Severity of Illness_new</th>\n",
       "      <th>health_conditions_new</th>\n",
       "      <th>Insurance_new</th>\n",
       "      <th>Long_stay_new</th>\n",
       "    </tr>\n",
       "  </thead>\n",
       "  <tbody>\n",
       "    <tr>\n",
       "      <th>0</th>\n",
       "      <td>4</td>\n",
       "      <td>2</td>\n",
       "      <td>0</td>\n",
       "      <td>4</td>\n",
       "      <td>0</td>\n",
       "      <td>1</td>\n",
       "      <td>0</td>\n",
       "      <td>1</td>\n",
       "      <td>1</td>\n",
       "      <td>0</td>\n",
       "    </tr>\n",
       "    <tr>\n",
       "      <th>1</th>\n",
       "      <td>4</td>\n",
       "      <td>2</td>\n",
       "      <td>2</td>\n",
       "      <td>3</td>\n",
       "      <td>0</td>\n",
       "      <td>1</td>\n",
       "      <td>1</td>\n",
       "      <td>2</td>\n",
       "      <td>0</td>\n",
       "      <td>1</td>\n",
       "    </tr>\n",
       "    <tr>\n",
       "      <th>2</th>\n",
       "      <td>2</td>\n",
       "      <td>2</td>\n",
       "      <td>8</td>\n",
       "      <td>2</td>\n",
       "      <td>0</td>\n",
       "      <td>1</td>\n",
       "      <td>0</td>\n",
       "      <td>1</td>\n",
       "      <td>1</td>\n",
       "      <td>0</td>\n",
       "    </tr>\n",
       "    <tr>\n",
       "      <th>3</th>\n",
       "      <td>4</td>\n",
       "      <td>2</td>\n",
       "      <td>7</td>\n",
       "      <td>3</td>\n",
       "      <td>0</td>\n",
       "      <td>2</td>\n",
       "      <td>2</td>\n",
       "      <td>4</td>\n",
       "      <td>0</td>\n",
       "      <td>0</td>\n",
       "    </tr>\n",
       "    <tr>\n",
       "      <th>4</th>\n",
       "      <td>2</td>\n",
       "      <td>1</td>\n",
       "      <td>10</td>\n",
       "      <td>7</td>\n",
       "      <td>1</td>\n",
       "      <td>1</td>\n",
       "      <td>2</td>\n",
       "      <td>1</td>\n",
       "      <td>0</td>\n",
       "      <td>1</td>\n",
       "    </tr>\n",
       "  </tbody>\n",
       "</table>\n",
       "</div>"
      ],
      "text/plain": [
       "   Available Extra Rooms in Hospital_new  Department_new  staff_available_new  \\\n",
       "0                                      4               2                    0   \n",
       "1                                      4               2                    2   \n",
       "2                                      2               2                    8   \n",
       "3                                      4               2                    7   \n",
       "4                                      2               1                   10   \n",
       "\n",
       "   Age_new  gender_new  Type of Admission_new  Severity of Illness_new  \\\n",
       "0        4           0                      1                        0   \n",
       "1        3           0                      1                        1   \n",
       "2        2           0                      1                        0   \n",
       "3        3           0                      2                        2   \n",
       "4        7           1                      1                        2   \n",
       "\n",
       "   health_conditions_new  Insurance_new  Long_stay_new  \n",
       "0                      1              1              0  \n",
       "1                      2              0              1  \n",
       "2                      1              1              0  \n",
       "3                      4              0              0  \n",
       "4                      1              0              1  "
      ]
     },
     "execution_count": 15,
     "metadata": {},
     "output_type": "execute_result"
    }
   ],
   "source": [
    "#Observamos como quedo el dataframe\n",
    "df_train.head()"
   ]
  },
  {
   "cell_type": "code",
   "execution_count": 16,
   "metadata": {},
   "outputs": [
    {
     "data": {
      "text/html": [
       "<div>\n",
       "<style scoped>\n",
       "    .dataframe tbody tr th:only-of-type {\n",
       "        vertical-align: middle;\n",
       "    }\n",
       "\n",
       "    .dataframe tbody tr th {\n",
       "        vertical-align: top;\n",
       "    }\n",
       "\n",
       "    .dataframe thead th {\n",
       "        text-align: right;\n",
       "    }\n",
       "</style>\n",
       "<table border=\"1\" class=\"dataframe\">\n",
       "  <thead>\n",
       "    <tr style=\"text-align: right;\">\n",
       "      <th></th>\n",
       "      <th>Available Extra Rooms in Hospital_new</th>\n",
       "      <th>Department_new</th>\n",
       "      <th>staff_available_new</th>\n",
       "      <th>Age_new</th>\n",
       "      <th>gender_new</th>\n",
       "      <th>Type of Admission_new</th>\n",
       "      <th>Severity of Illness_new</th>\n",
       "      <th>health_conditions_new</th>\n",
       "      <th>Insurance_new</th>\n",
       "      <th>Long_stay_new</th>\n",
       "    </tr>\n",
       "  </thead>\n",
       "  <tbody>\n",
       "    <tr>\n",
       "      <th>Available Extra Rooms in Hospital_new</th>\n",
       "      <td>1.000000</td>\n",
       "      <td>-0.017947</td>\n",
       "      <td>-0.002804</td>\n",
       "      <td>-0.036023</td>\n",
       "      <td>-0.047962</td>\n",
       "      <td>0.007834</td>\n",
       "      <td>0.028238</td>\n",
       "      <td>0.001559</td>\n",
       "      <td>0.002807</td>\n",
       "      <td>0.043327</td>\n",
       "    </tr>\n",
       "    <tr>\n",
       "      <th>Department_new</th>\n",
       "      <td>-0.017947</td>\n",
       "      <td>1.000000</td>\n",
       "      <td>0.016304</td>\n",
       "      <td>0.013096</td>\n",
       "      <td>0.016474</td>\n",
       "      <td>-0.037395</td>\n",
       "      <td>0.014698</td>\n",
       "      <td>-0.000344</td>\n",
       "      <td>-0.000714</td>\n",
       "      <td>-0.173021</td>\n",
       "    </tr>\n",
       "    <tr>\n",
       "      <th>staff_available_new</th>\n",
       "      <td>-0.002804</td>\n",
       "      <td>0.016304</td>\n",
       "      <td>1.000000</td>\n",
       "      <td>0.001818</td>\n",
       "      <td>0.003960</td>\n",
       "      <td>-0.002255</td>\n",
       "      <td>0.002759</td>\n",
       "      <td>-0.001500</td>\n",
       "      <td>0.001245</td>\n",
       "      <td>0.002883</td>\n",
       "    </tr>\n",
       "    <tr>\n",
       "      <th>Age_new</th>\n",
       "      <td>-0.036023</td>\n",
       "      <td>0.013096</td>\n",
       "      <td>0.001818</td>\n",
       "      <td>1.000000</td>\n",
       "      <td>0.497530</td>\n",
       "      <td>0.005304</td>\n",
       "      <td>0.023350</td>\n",
       "      <td>0.037140</td>\n",
       "      <td>-0.002472</td>\n",
       "      <td>0.229657</td>\n",
       "    </tr>\n",
       "    <tr>\n",
       "      <th>gender_new</th>\n",
       "      <td>-0.047962</td>\n",
       "      <td>0.016474</td>\n",
       "      <td>0.003960</td>\n",
       "      <td>0.497530</td>\n",
       "      <td>1.000000</td>\n",
       "      <td>0.031566</td>\n",
       "      <td>0.029147</td>\n",
       "      <td>-0.000242</td>\n",
       "      <td>0.001657</td>\n",
       "      <td>0.193878</td>\n",
       "    </tr>\n",
       "    <tr>\n",
       "      <th>Type of Admission_new</th>\n",
       "      <td>0.007834</td>\n",
       "      <td>-0.037395</td>\n",
       "      <td>-0.002255</td>\n",
       "      <td>0.005304</td>\n",
       "      <td>0.031566</td>\n",
       "      <td>1.000000</td>\n",
       "      <td>-0.070795</td>\n",
       "      <td>0.001768</td>\n",
       "      <td>-0.002062</td>\n",
       "      <td>0.006233</td>\n",
       "    </tr>\n",
       "    <tr>\n",
       "      <th>Severity of Illness_new</th>\n",
       "      <td>0.028238</td>\n",
       "      <td>0.014698</td>\n",
       "      <td>0.002759</td>\n",
       "      <td>0.023350</td>\n",
       "      <td>0.029147</td>\n",
       "      <td>-0.070795</td>\n",
       "      <td>1.000000</td>\n",
       "      <td>0.214291</td>\n",
       "      <td>0.001924</td>\n",
       "      <td>0.017030</td>\n",
       "    </tr>\n",
       "    <tr>\n",
       "      <th>health_conditions_new</th>\n",
       "      <td>0.001559</td>\n",
       "      <td>-0.000344</td>\n",
       "      <td>-0.001500</td>\n",
       "      <td>0.037140</td>\n",
       "      <td>-0.000242</td>\n",
       "      <td>0.001768</td>\n",
       "      <td>0.214291</td>\n",
       "      <td>1.000000</td>\n",
       "      <td>0.008702</td>\n",
       "      <td>-0.002568</td>\n",
       "    </tr>\n",
       "    <tr>\n",
       "      <th>Insurance_new</th>\n",
       "      <td>0.002807</td>\n",
       "      <td>-0.000714</td>\n",
       "      <td>0.001245</td>\n",
       "      <td>-0.002472</td>\n",
       "      <td>0.001657</td>\n",
       "      <td>-0.002062</td>\n",
       "      <td>0.001924</td>\n",
       "      <td>0.008702</td>\n",
       "      <td>1.000000</td>\n",
       "      <td>-0.001063</td>\n",
       "    </tr>\n",
       "    <tr>\n",
       "      <th>Long_stay_new</th>\n",
       "      <td>0.043327</td>\n",
       "      <td>-0.173021</td>\n",
       "      <td>0.002883</td>\n",
       "      <td>0.229657</td>\n",
       "      <td>0.193878</td>\n",
       "      <td>0.006233</td>\n",
       "      <td>0.017030</td>\n",
       "      <td>-0.002568</td>\n",
       "      <td>-0.001063</td>\n",
       "      <td>1.000000</td>\n",
       "    </tr>\n",
       "  </tbody>\n",
       "</table>\n",
       "</div>"
      ],
      "text/plain": [
       "                                       Available Extra Rooms in Hospital_new  \\\n",
       "Available Extra Rooms in Hospital_new                               1.000000   \n",
       "Department_new                                                     -0.017947   \n",
       "staff_available_new                                                -0.002804   \n",
       "Age_new                                                            -0.036023   \n",
       "gender_new                                                         -0.047962   \n",
       "Type of Admission_new                                               0.007834   \n",
       "Severity of Illness_new                                             0.028238   \n",
       "health_conditions_new                                               0.001559   \n",
       "Insurance_new                                                       0.002807   \n",
       "Long_stay_new                                                       0.043327   \n",
       "\n",
       "                                       Department_new  staff_available_new  \\\n",
       "Available Extra Rooms in Hospital_new       -0.017947            -0.002804   \n",
       "Department_new                               1.000000             0.016304   \n",
       "staff_available_new                          0.016304             1.000000   \n",
       "Age_new                                      0.013096             0.001818   \n",
       "gender_new                                   0.016474             0.003960   \n",
       "Type of Admission_new                       -0.037395            -0.002255   \n",
       "Severity of Illness_new                      0.014698             0.002759   \n",
       "health_conditions_new                       -0.000344            -0.001500   \n",
       "Insurance_new                               -0.000714             0.001245   \n",
       "Long_stay_new                               -0.173021             0.002883   \n",
       "\n",
       "                                        Age_new  gender_new  \\\n",
       "Available Extra Rooms in Hospital_new -0.036023   -0.047962   \n",
       "Department_new                         0.013096    0.016474   \n",
       "staff_available_new                    0.001818    0.003960   \n",
       "Age_new                                1.000000    0.497530   \n",
       "gender_new                             0.497530    1.000000   \n",
       "Type of Admission_new                  0.005304    0.031566   \n",
       "Severity of Illness_new                0.023350    0.029147   \n",
       "health_conditions_new                  0.037140   -0.000242   \n",
       "Insurance_new                         -0.002472    0.001657   \n",
       "Long_stay_new                          0.229657    0.193878   \n",
       "\n",
       "                                       Type of Admission_new  \\\n",
       "Available Extra Rooms in Hospital_new               0.007834   \n",
       "Department_new                                     -0.037395   \n",
       "staff_available_new                                -0.002255   \n",
       "Age_new                                             0.005304   \n",
       "gender_new                                          0.031566   \n",
       "Type of Admission_new                               1.000000   \n",
       "Severity of Illness_new                            -0.070795   \n",
       "health_conditions_new                               0.001768   \n",
       "Insurance_new                                      -0.002062   \n",
       "Long_stay_new                                       0.006233   \n",
       "\n",
       "                                       Severity of Illness_new  \\\n",
       "Available Extra Rooms in Hospital_new                 0.028238   \n",
       "Department_new                                        0.014698   \n",
       "staff_available_new                                   0.002759   \n",
       "Age_new                                               0.023350   \n",
       "gender_new                                            0.029147   \n",
       "Type of Admission_new                                -0.070795   \n",
       "Severity of Illness_new                               1.000000   \n",
       "health_conditions_new                                 0.214291   \n",
       "Insurance_new                                         0.001924   \n",
       "Long_stay_new                                         0.017030   \n",
       "\n",
       "                                       health_conditions_new  Insurance_new  \\\n",
       "Available Extra Rooms in Hospital_new               0.001559       0.002807   \n",
       "Department_new                                     -0.000344      -0.000714   \n",
       "staff_available_new                                -0.001500       0.001245   \n",
       "Age_new                                             0.037140      -0.002472   \n",
       "gender_new                                         -0.000242       0.001657   \n",
       "Type of Admission_new                               0.001768      -0.002062   \n",
       "Severity of Illness_new                             0.214291       0.001924   \n",
       "health_conditions_new                               1.000000       0.008702   \n",
       "Insurance_new                                       0.008702       1.000000   \n",
       "Long_stay_new                                      -0.002568      -0.001063   \n",
       "\n",
       "                                       Long_stay_new  \n",
       "Available Extra Rooms in Hospital_new       0.043327  \n",
       "Department_new                             -0.173021  \n",
       "staff_available_new                         0.002883  \n",
       "Age_new                                     0.229657  \n",
       "gender_new                                  0.193878  \n",
       "Type of Admission_new                       0.006233  \n",
       "Severity of Illness_new                     0.017030  \n",
       "health_conditions_new                      -0.002568  \n",
       "Insurance_new                              -0.001063  \n",
       "Long_stay_new                               1.000000  "
      ]
     },
     "execution_count": 16,
     "metadata": {},
     "output_type": "execute_result"
    }
   ],
   "source": [
    "#Observamos las correlaciones de los datos\n",
    "df_train.corr()"
   ]
  },
  {
   "cell_type": "code",
   "execution_count": 17,
   "metadata": {},
   "outputs": [
    {
     "data": {
      "image/png": "[encoded data removed]",
      "text/plain": [
       "<Figure size 432x288 with 1 Axes>"
      ]
     },
     "metadata": {
      "needs_background": "light"
     },
     "output_type": "display_data"
    }
   ],
   "source": [
    "#Graficamos la estadia en numeros\n",
    "sns.countplot(x = 'Long_stay_new', data = df_train)\n",
    "plt.show()"
   ]
  },
  {
   "cell_type": "code",
   "execution_count": 18,
   "metadata": {},
   "outputs": [
    {
     "data": {
      "image/png": "[encoded data removed]",
      "text/plain": [
       "<Figure size 1008x720 with 2 Axes>"
      ]
     },
     "metadata": {
      "needs_background": "light"
     },
     "output_type": "display_data"
    }
   ],
   "source": [
    "#Hacemos un mapa de calor\n",
    "corr = df_train.drop(columns = ['Long_stay_new']).corr(method='pearson')\n",
    "plt.figure(figsize=(14,10))\n",
    "sns.heatmap(corr, cbar = True,  square = True, annot=True, fmt= '.2f',annot_kws={'size': 15},\n",
    "           xticklabels= df_train.drop(columns = ['Long_stay_new']).columns, \n",
    "           yticklabels= df_train.drop(columns = ['Long_stay_new']).columns,\n",
    "           cmap= 'coolwarm')\n",
    "\n",
    "plt.show()"
   ]
  },
  {
   "cell_type": "code",
   "execution_count": 19,
   "metadata": {},
   "outputs": [
    {
     "data": {
      "text/html": [
       "<div>\n",
       "<style scoped>\n",
       "    .dataframe tbody tr th:only-of-type {\n",
       "        vertical-align: middle;\n",
       "    }\n",
       "\n",
       "    .dataframe tbody tr th {\n",
       "        vertical-align: top;\n",
       "    }\n",
       "\n",
       "    .dataframe thead th {\n",
       "        text-align: right;\n",
       "    }\n",
       "</style>\n",
       "<table border=\"1\" class=\"dataframe\">\n",
       "  <thead>\n",
       "    <tr style=\"text-align: right;\">\n",
       "      <th></th>\n",
       "      <th>Long_stay_new</th>\n",
       "    </tr>\n",
       "  </thead>\n",
       "  <tbody>\n",
       "    <tr>\n",
       "      <th>Long_stay_new</th>\n",
       "      <td>1.000000</td>\n",
       "    </tr>\n",
       "    <tr>\n",
       "      <th>Age_new</th>\n",
       "      <td>0.229657</td>\n",
       "    </tr>\n",
       "    <tr>\n",
       "      <th>gender_new</th>\n",
       "      <td>0.193878</td>\n",
       "    </tr>\n",
       "    <tr>\n",
       "      <th>Available Extra Rooms in Hospital_new</th>\n",
       "      <td>0.043327</td>\n",
       "    </tr>\n",
       "    <tr>\n",
       "      <th>Severity of Illness_new</th>\n",
       "      <td>0.017030</td>\n",
       "    </tr>\n",
       "    <tr>\n",
       "      <th>Type of Admission_new</th>\n",
       "      <td>0.006233</td>\n",
       "    </tr>\n",
       "    <tr>\n",
       "      <th>staff_available_new</th>\n",
       "      <td>0.002883</td>\n",
       "    </tr>\n",
       "    <tr>\n",
       "      <th>Insurance_new</th>\n",
       "      <td>-0.001063</td>\n",
       "    </tr>\n",
       "    <tr>\n",
       "      <th>health_conditions_new</th>\n",
       "      <td>-0.002568</td>\n",
       "    </tr>\n",
       "    <tr>\n",
       "      <th>Department_new</th>\n",
       "      <td>-0.173021</td>\n",
       "    </tr>\n",
       "  </tbody>\n",
       "</table>\n",
       "</div>"
      ],
      "text/plain": [
       "                                       Long_stay_new\n",
       "Long_stay_new                               1.000000\n",
       "Age_new                                     0.229657\n",
       "gender_new                                  0.193878\n",
       "Available Extra Rooms in Hospital_new       0.043327\n",
       "Severity of Illness_new                     0.017030\n",
       "Type of Admission_new                       0.006233\n",
       "staff_available_new                         0.002883\n",
       "Insurance_new                              -0.001063\n",
       "health_conditions_new                      -0.002568\n",
       "Department_new                             -0.173021"
      ]
     },
     "execution_count": 19,
     "metadata": {},
     "output_type": "execute_result"
    }
   ],
   "source": [
    "#Vemos las correlaciones ordenandolas de forma descendente\n",
    "corr = df_train.corr()\n",
    "corr[['Long_stay_new']].sort_values(by = 'Long_stay_new',ascending = False)"
   ]
  },
  {
   "cell_type": "code",
   "execution_count": 20,
   "metadata": {},
   "outputs": [],
   "source": [
    "#Establecemos variables x e y\n",
    "x= df_train.drop(['Long_stay_new'], axis= 1)\n",
    "y= df_train['Long_stay_new']"
   ]
  },
  {
   "cell_type": "code",
   "execution_count": 24,
   "metadata": {},
   "outputs": [],
   "source": [
    "# División de los datos en train y test\n",
    "X_train, X_test, y_train, y_test = train_test_split(x, y, test_size=0.25, random_state=42)"
   ]
  },
  {
   "attachments": {},
   "cell_type": "markdown",
   "metadata": {},
   "source": [
    "Entrenamiento de Random Forest:\n",
    "Hiperparametros por defecto"
   ]
  },
  {
   "cell_type": "code",
   "execution_count": 34,
   "metadata": {},
   "outputs": [],
   "source": [
    "model = RandomForestClassifier()"
   ]
  },
  {
   "cell_type": "code",
   "execution_count": 35,
   "metadata": {},
   "outputs": [
    {
     "data": {
      "text/html": [
       "<style>#sk-container-id-3 {color: black;background-color: white;}#sk-container-id-3 pre{padding: 0;}#sk-container-id-3 div.sk-toggleable {background-color: white;}#sk-container-id-3 label.sk-toggleable__label {cursor: pointer;display: block;width: 100%;margin-bottom: 0;padding: 0.3em;box-sizing: border-box;text-align: center;}#sk-container-id-3 label.sk-toggleable__label-arrow:before {content: \"▸\";float: left;margin-right: 0.25em;color: #696969;}#sk-container-id-3 label.sk-toggleable__label-arrow:hover:before {color: black;}#sk-container-id-3 div.sk-estimator:hover label.sk-toggleable__label-arrow:before {color: black;}#sk-container-id-3 div.sk-toggleable__content {max-height: 0;max-width: 0;overflow: hidden;text-align: left;background-color: #f0f8ff;}#sk-container-id-3 div.sk-toggleable__content pre {margin: 0.2em;color: black;border-radius: 0.25em;background-color: #f0f8ff;}#sk-container-id-3 input.sk-toggleable__control:checked~div.sk-toggleable__content {max-height: 200px;max-width: 100%;overflow: auto;}#sk-container-id-3 input.sk-toggleable__control:checked~label.sk-toggleable__label-arrow:before {content: \"▾\";}#sk-container-id-3 div.sk-estimator input.sk-toggleable__control:checked~label.sk-toggleable__label {background-color: #d4ebff;}#sk-container-id-3 div.sk-label input.sk-toggleable__control:checked~label.sk-toggleable__label {background-color: #d4ebff;}#sk-container-id-3 input.sk-hidden--visually {border: 0;clip: rect(1px 1px 1px 1px);clip: rect(1px, 1px, 1px, 1px);height: 1px;margin: -1px;overflow: hidden;padding: 0;position: absolute;width: 1px;}#sk-container-id-3 div.sk-estimator {font-family: monospace;background-color: #f0f8ff;border: 1px dotted black;border-radius: 0.25em;box-sizing: border-box;margin-bottom: 0.5em;}#sk-container-id-3 div.sk-estimator:hover {background-color: #d4ebff;}#sk-container-id-3 div.sk-parallel-item::after {content: \"\";width: 100%;border-bottom: 1px solid gray;flex-grow: 1;}#sk-container-id-3 div.sk-label:hover label.sk-toggleable__label {background-color: #d4ebff;}#sk-container-id-3 div.sk-serial::before {content: \"\";position: absolute;border-left: 1px solid gray;box-sizing: border-box;top: 0;bottom: 0;left: 50%;z-index: 0;}#sk-container-id-3 div.sk-serial {display: flex;flex-direction: column;align-items: center;background-color: white;padding-right: 0.2em;padding-left: 0.2em;position: relative;}#sk-container-id-3 div.sk-item {position: relative;z-index: 1;}#sk-container-id-3 div.sk-parallel {display: flex;align-items: stretch;justify-content: center;background-color: white;position: relative;}#sk-container-id-3 div.sk-item::before, #sk-container-id-3 div.sk-parallel-item::before {content: \"\";position: absolute;border-left: 1px solid gray;box-sizing: border-box;top: 0;bottom: 0;left: 50%;z-index: -1;}#sk-container-id-3 div.sk-parallel-item {display: flex;flex-direction: column;z-index: 1;position: relative;background-color: white;}#sk-container-id-3 div.sk-parallel-item:first-child::after {align-self: flex-end;width: 50%;}#sk-container-id-3 div.sk-parallel-item:last-child::after {align-self: flex-start;width: 50%;}#sk-container-id-3 div.sk-parallel-item:only-child::after {width: 0;}#sk-container-id-3 div.sk-dashed-wrapped {border: 1px dashed gray;margin: 0 0.4em 0.5em 0.4em;box-sizing: border-box;padding-bottom: 0.4em;background-color: white;}#sk-container-id-3 div.sk-label label {font-family: monospace;font-weight: bold;display: inline-block;line-height: 1.2em;}#sk-container-id-3 div.sk-label-container {text-align: center;}#sk-container-id-3 div.sk-container {/* jupyter's `normalize.less` sets `[hidden] { display: none; }` but bootstrap.min.css set `[hidden] { display: none !important; }` so we also need the `!important` here to be able to override the default hidden behavior on the sphinx rendered scikit-learn.org. See: https://github.com/scikit-learn/scikit-learn/issues/21755 */display: inline-block !important;position: relative;}#sk-container-id-3 div.sk-text-repr-fallback {display: none;}</style><div id=\"sk-container-id-3\" class=\"sk-top-container\"><div class=\"sk-text-repr-fallback\"><pre>RandomForestClassifier()</pre><b>In a Jupyter environment, please rerun this cell to show the HTML representation or trust the notebook. <br />On GitHub, the HTML representation is unable to render, please try loading this page with nbviewer.org.</b></div><div class=\"sk-container\" hidden><div class=\"sk-item\"><div class=\"sk-estimator sk-toggleable\"><input class=\"sk-toggleable__control sk-hidden--visually\" id=\"sk-estimator-id-3\" type=\"checkbox\" checked><label for=\"sk-estimator-id-3\" class=\"sk-toggleable__label sk-toggleable__label-arrow\">RandomForestClassifier</label><div class=\"sk-toggleable__content\"><pre>RandomForestClassifier()</pre></div></div></div></div></div>"
      ],
      "text/plain": [
       "RandomForestClassifier()"
      ]
     },
     "execution_count": 35,
     "metadata": {},
     "output_type": "execute_result"
    }
   ],
   "source": [
    "#Entrenamos el modelo \n",
    "model.fit(X_train, y_train)"
   ]
  },
  {
   "cell_type": "code",
   "execution_count": 36,
   "metadata": {},
   "outputs": [],
   "source": [
    "#Hacemos las predicciones con los datos de testeo \n",
    "prediction = model.predict(X_test)"
   ]
  },
  {
   "cell_type": "code",
   "execution_count": 37,
   "metadata": {},
   "outputs": [
    {
     "name": "stdout",
     "output_type": "stream",
     "text": [
      "Matriz de confusión:\n",
      "[[18485 20329]\n",
      " [12089 51597]]\n"
     ]
    }
   ],
   "source": [
    "#Matriz de confusión\n",
    "matriz = confusion_matrix(y_test,prediction)\n",
    "print(\"Matriz de confusión:\")\n",
    "print(matriz)"
   ]
  },
  {
   "cell_type": "code",
   "execution_count": 38,
   "metadata": {},
   "outputs": [
    {
     "name": "stdout",
     "output_type": "stream",
     "text": [
      "Reporte de Clasificación:\n",
      "              precision    recall  f1-score   support\n",
      "\n",
      "           0       0.60      0.48      0.53     38814\n",
      "           1       0.72      0.81      0.76     63686\n",
      "\n",
      "    accuracy                           0.68    102500\n",
      "   macro avg       0.66      0.64      0.65    102500\n",
      "weighted avg       0.67      0.68      0.67    102500\n",
      "\n"
     ]
    }
   ],
   "source": [
    "#Eeporte de clasificación (recall y accuracy)\n",
    "reporte = classification_report(y_test, prediction)\n",
    "print(\"Reporte de Clasificación:\")\n",
    "print(reporte)"
   ]
  },
  {
   "cell_type": "code",
   "execution_count": 39,
   "metadata": {},
   "outputs": [
    {
     "name": "stdout",
     "output_type": "stream",
     "text": [
      "accuracy:  0.6837268292682926\n",
      "Recall:  0.8101780611123324\n"
     ]
    }
   ],
   "source": [
    "#Imprimimos las métricas \n",
    "print(\"accuracy: \", metrics.accuracy_score(y_test, prediction))\n",
    "print(\"Recall: \", metrics.recall_score(y_test, prediction))"
   ]
  },
  {
   "attachments": {},
   "cell_type": "markdown",
   "metadata": {},
   "source": [
    "Predecimos con nuestro modelo la estadía de los pacientes"
   ]
  },
  {
   "cell_type": "code",
   "execution_count": 40,
   "metadata": {},
   "outputs": [
    {
     "data": {
      "text/html": [
       "<style>#sk-container-id-4 {color: black;background-color: white;}#sk-container-id-4 pre{padding: 0;}#sk-container-id-4 div.sk-toggleable {background-color: white;}#sk-container-id-4 label.sk-toggleable__label {cursor: pointer;display: block;width: 100%;margin-bottom: 0;padding: 0.3em;box-sizing: border-box;text-align: center;}#sk-container-id-4 label.sk-toggleable__label-arrow:before {content: \"▸\";float: left;margin-right: 0.25em;color: #696969;}#sk-container-id-4 label.sk-toggleable__label-arrow:hover:before {color: black;}#sk-container-id-4 div.sk-estimator:hover label.sk-toggleable__label-arrow:before {color: black;}#sk-container-id-4 div.sk-toggleable__content {max-height: 0;max-width: 0;overflow: hidden;text-align: left;background-color: #f0f8ff;}#sk-container-id-4 div.sk-toggleable__content pre {margin: 0.2em;color: black;border-radius: 0.25em;background-color: #f0f8ff;}#sk-container-id-4 input.sk-toggleable__control:checked~div.sk-toggleable__content {max-height: 200px;max-width: 100%;overflow: auto;}#sk-container-id-4 input.sk-toggleable__control:checked~label.sk-toggleable__label-arrow:before {content: \"▾\";}#sk-container-id-4 div.sk-estimator input.sk-toggleable__control:checked~label.sk-toggleable__label {background-color: #d4ebff;}#sk-container-id-4 div.sk-label input.sk-toggleable__control:checked~label.sk-toggleable__label {background-color: #d4ebff;}#sk-container-id-4 input.sk-hidden--visually {border: 0;clip: rect(1px 1px 1px 1px);clip: rect(1px, 1px, 1px, 1px);height: 1px;margin: -1px;overflow: hidden;padding: 0;position: absolute;width: 1px;}#sk-container-id-4 div.sk-estimator {font-family: monospace;background-color: #f0f8ff;border: 1px dotted black;border-radius: 0.25em;box-sizing: border-box;margin-bottom: 0.5em;}#sk-container-id-4 div.sk-estimator:hover {background-color: #d4ebff;}#sk-container-id-4 div.sk-parallel-item::after {content: \"\";width: 100%;border-bottom: 1px solid gray;flex-grow: 1;}#sk-container-id-4 div.sk-label:hover label.sk-toggleable__label {background-color: #d4ebff;}#sk-container-id-4 div.sk-serial::before {content: \"\";position: absolute;border-left: 1px solid gray;box-sizing: border-box;top: 0;bottom: 0;left: 50%;z-index: 0;}#sk-container-id-4 div.sk-serial {display: flex;flex-direction: column;align-items: center;background-color: white;padding-right: 0.2em;padding-left: 0.2em;position: relative;}#sk-container-id-4 div.sk-item {position: relative;z-index: 1;}#sk-container-id-4 div.sk-parallel {display: flex;align-items: stretch;justify-content: center;background-color: white;position: relative;}#sk-container-id-4 div.sk-item::before, #sk-container-id-4 div.sk-parallel-item::before {content: \"\";position: absolute;border-left: 1px solid gray;box-sizing: border-box;top: 0;bottom: 0;left: 50%;z-index: -1;}#sk-container-id-4 div.sk-parallel-item {display: flex;flex-direction: column;z-index: 1;position: relative;background-color: white;}#sk-container-id-4 div.sk-parallel-item:first-child::after {align-self: flex-end;width: 50%;}#sk-container-id-4 div.sk-parallel-item:last-child::after {align-self: flex-start;width: 50%;}#sk-container-id-4 div.sk-parallel-item:only-child::after {width: 0;}#sk-container-id-4 div.sk-dashed-wrapped {border: 1px dashed gray;margin: 0 0.4em 0.5em 0.4em;box-sizing: border-box;padding-bottom: 0.4em;background-color: white;}#sk-container-id-4 div.sk-label label {font-family: monospace;font-weight: bold;display: inline-block;line-height: 1.2em;}#sk-container-id-4 div.sk-label-container {text-align: center;}#sk-container-id-4 div.sk-container {/* jupyter's `normalize.less` sets `[hidden] { display: none; }` but bootstrap.min.css set `[hidden] { display: none !important; }` so we also need the `!important` here to be able to override the default hidden behavior on the sphinx rendered scikit-learn.org. See: https://github.com/scikit-learn/scikit-learn/issues/21755 */display: inline-block !important;position: relative;}#sk-container-id-4 div.sk-text-repr-fallback {display: none;}</style><div id=\"sk-container-id-4\" class=\"sk-top-container\"><div class=\"sk-text-repr-fallback\"><pre>RandomForestClassifier()</pre><b>In a Jupyter environment, please rerun this cell to show the HTML representation or trust the notebook. <br />On GitHub, the HTML representation is unable to render, please try loading this page with nbviewer.org.</b></div><div class=\"sk-container\" hidden><div class=\"sk-item\"><div class=\"sk-estimator sk-toggleable\"><input class=\"sk-toggleable__control sk-hidden--visually\" id=\"sk-estimator-id-4\" type=\"checkbox\" checked><label for=\"sk-estimator-id-4\" class=\"sk-toggleable__label sk-toggleable__label-arrow\">RandomForestClassifier</label><div class=\"sk-toggleable__content\"><pre>RandomForestClassifier()</pre></div></div></div></div></div>"
      ],
      "text/plain": [
       "RandomForestClassifier()"
      ]
     },
     "execution_count": 40,
     "metadata": {},
     "output_type": "execute_result"
    }
   ],
   "source": [
    "#Entrenamos\n",
    "modelo_predict = RandomForestClassifier()\n",
    "modelo_predict.fit(x,y)"
   ]
  },
  {
   "cell_type": "code",
   "execution_count": 41,
   "metadata": {},
   "outputs": [],
   "source": [
    "#Obtener nuestra columna 'pred' con las predicciones\n",
    "predicciones = pd.DataFrame()\n",
    "predicciones['pred'] = modelo_predict.predict(df_test)"
   ]
  },
  {
   "cell_type": "code",
   "execution_count": 42,
   "metadata": {},
   "outputs": [
    {
     "data": {
      "text/html": [
       "<div>\n",
       "<style scoped>\n",
       "    .dataframe tbody tr th:only-of-type {\n",
       "        vertical-align: middle;\n",
       "    }\n",
       "\n",
       "    .dataframe tbody tr th {\n",
       "        vertical-align: top;\n",
       "    }\n",
       "\n",
       "    .dataframe thead th {\n",
       "        text-align: right;\n",
       "    }\n",
       "</style>\n",
       "<table border=\"1\" class=\"dataframe\">\n",
       "  <thead>\n",
       "    <tr style=\"text-align: right;\">\n",
       "      <th></th>\n",
       "      <th>pred</th>\n",
       "    </tr>\n",
       "  </thead>\n",
       "  <tbody>\n",
       "    <tr>\n",
       "      <th>0</th>\n",
       "      <td>1</td>\n",
       "    </tr>\n",
       "    <tr>\n",
       "      <th>1</th>\n",
       "      <td>1</td>\n",
       "    </tr>\n",
       "    <tr>\n",
       "      <th>2</th>\n",
       "      <td>1</td>\n",
       "    </tr>\n",
       "    <tr>\n",
       "      <th>3</th>\n",
       "      <td>1</td>\n",
       "    </tr>\n",
       "    <tr>\n",
       "      <th>4</th>\n",
       "      <td>1</td>\n",
       "    </tr>\n",
       "    <tr>\n",
       "      <th>...</th>\n",
       "      <td>...</td>\n",
       "    </tr>\n",
       "    <tr>\n",
       "      <th>89995</th>\n",
       "      <td>0</td>\n",
       "    </tr>\n",
       "    <tr>\n",
       "      <th>89996</th>\n",
       "      <td>1</td>\n",
       "    </tr>\n",
       "    <tr>\n",
       "      <th>89997</th>\n",
       "      <td>1</td>\n",
       "    </tr>\n",
       "    <tr>\n",
       "      <th>89998</th>\n",
       "      <td>1</td>\n",
       "    </tr>\n",
       "    <tr>\n",
       "      <th>89999</th>\n",
       "      <td>1</td>\n",
       "    </tr>\n",
       "  </tbody>\n",
       "</table>\n",
       "<p>90000 rows × 1 columns</p>\n",
       "</div>"
      ],
      "text/plain": [
       "       pred\n",
       "0         1\n",
       "1         1\n",
       "2         1\n",
       "3         1\n",
       "4         1\n",
       "...     ...\n",
       "89995     0\n",
       "89996     1\n",
       "89997     1\n",
       "89998     1\n",
       "89999     1\n",
       "\n",
       "[90000 rows x 1 columns]"
      ]
     },
     "execution_count": 42,
     "metadata": {},
     "output_type": "execute_result"
    }
   ],
   "source": [
    "predicciones"
   ]
  },
  {
   "cell_type": "code",
   "execution_count": 108,
   "metadata": {},
   "outputs": [],
   "source": [
    "#Guardamos la columna en un archivo .csv\n",
    "predicciones.to_csv(path_or_buf='./Jucepos.csv' , index=False)"
   ]
  }
 ],
 "metadata": {
  "kernelspec": {
   "display_name": "Python 3",
   "language": "python",
   "name": "python3"
  },
  "language_info": {
   "codemirror_mode": {
    "name": "ipython",
    "version": 3
   },
   "file_extension": ".py",
   "mimetype": "text/x-python",
   "name": "python",
   "nbconvert_exporter": "python",
   "pygments_lexer": "ipython3",
   "version": "3.10.4"
  },
  "orig_nbformat": 4,
  "vscode": {
   "interpreter": {
    "hash": "9ae161064568ab8995da0dd3a497742cb93d7a4a8c92dd24679206c238b5a846"
   }
  }
 },
 "nbformat": 4,
 "nbformat_minor": 2
}
